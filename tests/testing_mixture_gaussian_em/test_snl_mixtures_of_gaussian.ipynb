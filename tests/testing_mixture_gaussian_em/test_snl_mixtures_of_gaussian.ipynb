{
 "cells": [
  {
   "cell_type": "code",
   "execution_count": null,
   "metadata": {},
   "outputs": [],
   "source": [
    "from SNLDirectional.Energy.FastMixture.fast_mixture_generalized_gaussian_matrix_param import FastMixtureGeneralizedGaussianEnergyMatrix\n",
    "from SNLDirectional.Proposal import GaussianProposal, UniformProposal\n",
    "from Data import get_dataloader_from_data\n",
    "import matplotlib.pyplot as plt\n",
    "import numpy as np\n",
    "import torch\n",
    "from torch.utils.data import TensorDataset, DataLoader\n",
    "from SNLDirectional.Trainer import SNLTrainer, EMSNL\n",
    "from SNLDirectional.Energy import MaxMinTruncation"
   ]
  },
  {
   "cell_type": "markdown",
   "metadata": {},
   "source": [
    "# Training data "
   ]
  },
  {
   "cell_type": "code",
   "execution_count": null,
   "metadata": {},
   "outputs": [],
   "source": [
    "target_distribution_1 = torch.distributions.Normal(torch.tensor([1,1], dtype=torch.float32) , torch.tensor([2,1], dtype=torch.float32))\n",
    "target_distribution_2 = torch.distributions.Normal(torch.tensor([-4,-4], dtype=torch.float32) , torch.tensor([2,1], dtype=torch.float32))\n",
    "cluster_choice = torch.distributions.Categorical(torch.tensor([0.3,0.7]))"
   ]
  },
  {
   "cell_type": "code",
   "execution_count": null,
   "metadata": {},
   "outputs": [],
   "source": [
    "sample_choice = cluster_choice.sample((20000,1))\n",
    "sample_target_cartesian = sample_choice * target_distribution_1.sample((20000,)) + (1-sample_choice) * target_distribution_2.sample((20000,))\n",
    "\n",
    "\n",
    "\n",
    "\n",
    "dataset_total = TensorDataset(sample_target_cartesian, )\n",
    "split_size_train = int(0.8 * len(dataset_total))\n",
    "split_size_val = int(0.1 * len(dataset_total))\n",
    "split_size_test = len(dataset_total) - split_size_train - split_size_val\n",
    "data_train, data_val, data_test = torch.utils.data.random_split(dataset_total, [split_size_train, split_size_val, split_size_test])\n",
    "dataloader_train = DataLoader(data_train, batch_size=100, shuffle=True)\n",
    "dataloader_val = DataLoader(data_val, batch_size=100, shuffle=False)"
   ]
  },
  {
   "cell_type": "code",
   "execution_count": null,
   "metadata": {},
   "outputs": [],
   "source": []
  },
  {
   "cell_type": "code",
   "execution_count": null,
   "metadata": {},
   "outputs": [],
   "source": [
    "\n",
    "\n",
    "fig = plt.figure()\n",
    "ax = fig.add_subplot(111)\n",
    "# Add points\n",
    "ax.scatter(sample_target_cartesian[...,0], sample_target_cartesian[...,1], color='r')"
   ]
  },
  {
   "cell_type": "markdown",
   "metadata": {},
   "source": [
    "# Proposal"
   ]
  },
  {
   "cell_type": "code",
   "execution_count": null,
   "metadata": {},
   "outputs": [],
   "source": [
    "proposal_distribution = GaussianProposal(torch.Size([2,]), torch.tensor([0,0], dtype=torch.float32), torch.tensor([5,5], dtype=torch.float32))"
   ]
  },
  {
   "cell_type": "code",
   "execution_count": null,
   "metadata": {},
   "outputs": [],
   "source": [
    "sample_proposal = proposal_distribution.sample(1000,)\n",
    "\n",
    "fig = plt.figure()\n",
    "ax = fig.add_subplot(111)\n",
    "# Add gaussian distribution as contours\n",
    "\n",
    "# x = np.linspace(-20, 20, 100)\n",
    "x= np.linspace(-6, 3, 100)\n",
    "y = np.linspace(-6, 3, 100)\n",
    "# y = np.linspace(-20, 20, 100)\n",
    "X, Y = np.meshgrid(x, y)\n",
    "input_grid = torch.tensor([X,Y], dtype=torch.float32).permute(1,2,0)\n",
    "Z = proposal_distribution.log_prob(input_grid.flatten(0,1)).exp().numpy().reshape(X.shape)\n",
    "ax.contour(X, Y, Z, levels=10)\n",
    "\n",
    "\n",
    "# Add points\n",
    "ax.scatter(sample_proposal[...,0], sample_proposal[...,1], color='r')"
   ]
  },
  {
   "cell_type": "markdown",
   "metadata": {},
   "source": [
    "# Trainer SNL :\n"
   ]
  },
  {
   "cell_type": "code",
   "execution_count": null,
   "metadata": {},
   "outputs": [],
   "source": [
    "\n",
    "energy = FastMixtureGeneralizedGaussianEnergyMatrix(dim=2, num_cluster=2, learn_pi=True, learn_mu=True, learn_sigma=True, separate_normalisation=False)\n",
    "energy.explicit_bias.data = torch.tensor([1.0], dtype=torch.float32)\n",
    "trainer = SNLTrainer(energy=energy, proposal=proposal_distribution, dataloader=dataloader_train, val_dataloader=dataloader_val,\n",
    "                n_sample_train=1000, n_sample_test=1000, lr=0.01, \n",
    "                name_wandb=\"GaussianMixture_2D_SNL\",\n",
    ")\n",
    "trainer.train(n_iter=10000, n_iter_pretrain=200, log_every=100, plot_every=200., eval_every=100., )"
   ]
  },
  {
   "cell_type": "markdown",
   "metadata": {},
   "source": [
    "# Trainer EM :"
   ]
  },
  {
   "cell_type": "code",
   "execution_count": null,
   "metadata": {},
   "outputs": [],
   "source": [
    "\n",
    "\n",
    "energy = FastMixtureGeneralizedGaussianEnergyMatrix(dim=2, num_cluster=2, learn_mu=True, learn_sigma=True, learn_pi=True, separate_normalisation=True, )\n",
    "energy.explicit_bias.data = torch.tensor([1.0, 1.0], dtype=torch.float32)\n",
    "trainer = EMSNL(energy=energy, proposal=proposal_distribution, dataloader=dataloader_train, val_dataloader=dataloader_val,\n",
    "                 n_sample_train=1000, n_sample_test=1000, lr=0.01, stochastic_em=True,\n",
    "                             name_wandb=\"GaussianMixture_2D_EM\",\n",
    ")\n",
    "trainer.train(n_iter=10000, n_iter_pretrain=200, log_every=100, plot_every=200., eval_every=100., max_number_m_step=100\n",
    ")\n",
    "\n"
   ]
  }
 ],
 "metadata": {
  "kernelspec": {
   "display_name": "snl_directional",
   "language": "python",
   "name": "python3"
  },
  "language_info": {
   "codemirror_mode": {
    "name": "ipython",
    "version": 3
   },
   "file_extension": ".py",
   "mimetype": "text/x-python",
   "name": "python",
   "nbconvert_exporter": "python",
   "pygments_lexer": "ipython3",
   "version": "3.9.21"
  }
 },
 "nbformat": 4,
 "nbformat_minor": 2
}
