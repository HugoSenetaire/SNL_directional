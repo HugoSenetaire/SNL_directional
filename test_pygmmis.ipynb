{
 "cells": [
  {
   "cell_type": "code",
   "execution_count": null,
   "metadata": {},
   "outputs": [],
   "source": [
    "\n",
    "\n",
    "import pygmmis\n",
    "import numpy as np\n",
    "import matplotlib.pyplot as plt\n",
    "import matplotlib.patches as patches\n",
    "import matplotlib.lines as lines\n",
    "import matplotlib.cm\n",
    "import datetime\n",
    "from functools import partial\n",
    "import logging\n",
    "from numpy.random import RandomState\n",
    "from test_pygmmis import getSelection, plotResults, plotDifferences\n",
    "\n"
   ]
  },
  {
   "cell_type": "markdown",
   "metadata": {},
   "source": [
    "# Setup Data "
   ]
  },
  {
   "cell_type": "code",
   "execution_count": null,
   "metadata": {},
   "outputs": [],
   "source": [
    "\n",
    "# set up test\n",
    "N = 400             # number of samples\n",
    "K = 3               # number of components\n",
    "T = 1               # number of runs\n",
    "sel_type = \"boxWithHole\"    # type of selection\n",
    "disp = 0.5          # additive noise dispersion\n",
    "bg_amp = 0.0        # fraction of background samples\n",
    "w = 0.1             # minimum covariance regularization [data units]\n",
    "cutoff = 5          # cutoff distance between components [sigma]\n",
    "seed = 1        # seed value\n",
    "oversampling = 10   # for missing data: imputation samples per observed sample\n",
    "# show EM iteration results\n",
    "logging.basicConfig(format='%(message)s',level=logging.INFO)\n",
    "\n",
    "# define RNG for run\n",
    "rng = RandomState(seed)\n",
    "\n",
    "\n",
    "\n"
   ]
  },
  {
   "cell_type": "code",
   "execution_count": null,
   "metadata": {},
   "outputs": [],
   "source": [
    "\n",
    "# draw N points from 3-component GMM\n",
    "D = 2\n",
    "gmm = pygmmis.GMM(K=3, D=2)\n",
    "gmm.amp[:] = np.array([ 0.36060026,  0.27986906,  0.206774])\n",
    "gmm.amp /= gmm.amp.sum()\n",
    "print(gmm.amp)\n",
    "gmm.mean[:,:] = np.array([[ 0.08016886,  0.21300697],\n",
    "                            [ 0.70306351,  0.6709532 ],\n",
    "                            [ 0.01087670,  0.852077]])*10\n",
    "gmm.covar[:,:,:] = np.array([[[ 0.08530014, -0.00314178],\n",
    "                                [-0.00314178,  0.00541106]],\n",
    "                                [[ 0.03053402, 0.0125736],\n",
    "                                [0.0125736,  0.01075791]],\n",
    "                                [[ 0.00258605,  0.00409287],\n",
    "                                [ 0.00409287,  0.01065186]]])*100"
   ]
  },
  {
   "cell_type": "code",
   "execution_count": null,
   "metadata": {},
   "outputs": [],
   "source": [
    "# data come from pure GMM model or one with background?\n",
    "orig = gmm.draw(N, rng=rng)\n",
    "if bg_amp == 0:\n",
    "    orig_bg = orig\n",
    "    bg = None\n",
    "else:\n",
    "    footprint = np.array([-10,-10]), np.array([20,20])\n",
    "    bg = pygmmis.Background(footprint)\n",
    "    bg.amp = bg_amp\n",
    "    bg.adjust_amp = True\n",
    "\n",
    "    bg_size = int(bg_amp/(1-bg_amp) * N)\n",
    "    orig_bg = np.concatenate((orig, bg.draw(bg_size, rng=rng)))"
   ]
  },
  {
   "cell_type": "code",
   "execution_count": null,
   "metadata": {},
   "outputs": [],
   "source": []
  },
  {
   "cell_type": "code",
   "execution_count": null,
   "metadata": {},
   "outputs": [],
   "source": [
    "# add isotropic errors on data\n",
    "noisy = orig_bg + rng.normal(0, scale=disp, size=(len(orig_bg), D))\n",
    "\n",
    "# get observational selection function\n",
    "omega, ps = getSelection(sel_type, rng=rng)\n",
    "\n",
    "# apply selection\n",
    "sel = rng.rand(N) < omega(noisy)\n",
    "data = noisy[sel]\n",
    "# single covariance for all samples\n",
    "covar = disp**2 * np.eye(D)\n"
   ]
  },
  {
   "cell_type": "code",
   "execution_count": null,
   "metadata": {},
   "outputs": [],
   "source": [
    "\n",
    "# plot data vs true model\n",
    "plotResults(orig, data, gmm, patch=ps, description=\"Truth\", disp=disp, log=False)\n"
   ]
  },
  {
   "cell_type": "markdown",
   "metadata": {},
   "source": [
    "# EM without imputation, deconvolving via extreme convolution "
   ]
  },
  {
   "cell_type": "code",
   "execution_count": null,
   "metadata": {},
   "outputs": [],
   "source": [
    "#\n",
    "# repeated runs: store results and logL\n",
    "l = np.empty(T)\n",
    "gmms = [pygmmis.GMM(K=K, D=D) for r in range(T)]\n",
    "\n",
    "# 1) EM without imputation, ignoring errors\n",
    "start = datetime.datetime.now()\n",
    "rng = RandomState(seed)\n",
    "for r in range(T):\n",
    "    if bg is not None:\n",
    "        bg.amp = bg_amp\n",
    "    l[r], _ = pygmmis.fit(gmms[r], data, w=w, cutoff=cutoff, background=bg, rng=rng)\n",
    "avg = pygmmis.stack(gmms, l)\n",
    "print (\"execution time %ds\" % (datetime.datetime.now() - start).seconds)\n",
    "plotResults(orig, data, avg, patch=ps, description=\"Standard EM\")"
   ]
  },
  {
   "cell_type": "markdown",
   "metadata": {},
   "source": [
    "# pygmmis with imputation, igoring errors"
   ]
  },
  {
   "cell_type": "code",
   "execution_count": null,
   "metadata": {},
   "outputs": [],
   "source": [
    "start = datetime.datetime.now()\n",
    "rng = RandomState(seed)\n",
    "for r in range(T):\n",
    "    if bg is not None:\n",
    "        bg.amp = bg_amp\n",
    "    pygmmis.fit(gmms[r], data, w=w, cutoff=cutoff, background=bg, rng=rng)\n",
    "    l[r], _ = pygmmis.fit(gmms[r], data, init_method='none', w=w,  cutoff=cutoff, sel_callback=omega,  oversampling=oversampling, background=bg, rng=rng)\n",
    "avg = pygmmis.stack(gmms, l)\n",
    "print (\"execution time %ds\" % (datetime.datetime.now() - start).seconds)\n",
    "plotResults(orig, data, avg, patch=ps, description=\"$\\mathtt{GMMis}$\")\n"
   ]
  },
  {
   "cell_type": "markdown",
   "metadata": {},
   "source": [
    "# 4) pygmmis with imputation, incorporating errors\n"
   ]
  },
  {
   "cell_type": "code",
   "execution_count": null,
   "metadata": {},
   "outputs": [],
   "source": [
    "\n",
    "covar_cb = partial(pygmmis.covar_callback_default, default=np.eye(D)*disp**2)\n",
    "start = datetime.datetime.now()\n",
    "rng = RandomState(seed)\n",
    "for r in range(T):\n",
    "    if bg is not None:\n",
    "        bg.amp = bg_amp\n",
    "    pygmmis.fit(gmms[r], data, w=w, cutoff=cutoff, background=bg, rng=rng)\n",
    "    l[r], _ = pygmmis.fit(gmms[r], data, covar=covar, init_method='none', w=w, cutoff=cutoff, sel_callback=omega, oversampling=oversampling, covar_callback=covar_cb, background=bg, rng=rng)\n",
    "avg = pygmmis.stack(gmms, l)\n",
    "print (\"execution time %ds\" % (datetime.datetime.now() - start).seconds)\n",
    "plotResults(orig, data, avg, patch=ps, description=\"$\\mathtt{GMMis}$ & noise deconvolution\")"
   ]
  },
  {
   "cell_type": "markdown",
   "metadata": {},
   "source": [
    "# SNL"
   ]
  },
  {
   "cell_type": "markdown",
   "metadata": {},
   "source": [
    "### Data for SNL"
   ]
  },
  {
   "cell_type": "code",
   "execution_count": null,
   "metadata": {},
   "outputs": [],
   "source": [
    "\n",
    "batch_size_snl = 32\n",
    "proposal_sample = batch_size_snl * 10\n",
    "lr = 0.01\n",
    "# n_epochs = 100\n",
    "n_iter = 10000\n",
    "\n",
    "config = {\n",
    "    'n_iter': n_iter,\n",
    "    'lr': lr,\n",
    "    'proposal_sample': proposal_sample,\n",
    "    'batch_size': batch_size_snl,\n",
    "    'n_iter': n_iter,\n",
    "    'seed': seed,\n",
    "}\n"
   ]
  },
  {
   "cell_type": "code",
   "execution_count": null,
   "metadata": {},
   "outputs": [],
   "source": [
    "from Model.Energy import GeneralizedGaussianMixtureEnergy,GeneralizedGaussianMixtureEnergyVectorParam, CircleTruncation, CombineTruncation, MaxMinTruncation\n",
    "from Model.Proposal import GaussianProposal, UniformProposal, MixtureOfGeneralizedGaussianProposal, MixtureOfGaussianProposal\n",
    "from Data import get_dataloader_from_data\n",
    "import matplotlib.pyplot as plt\n",
    "import numpy as np\n",
    "import torch\n",
    "from torch.utils.data import TensorDataset, DataLoader\n",
    "from Model.Trainer import SNLTrainer\n",
    "from Model.Energy import MaxMinCensorship\n",
    "import random"
   ]
  },
  {
   "cell_type": "code",
   "execution_count": null,
   "metadata": {},
   "outputs": [],
   "source": [
    "train_dataset = TensorDataset(torch.tensor(data, dtype=torch.float32))\n",
    "train_loader = DataLoader(train_dataset, batch_size=32, shuffle=True)\n",
    "\n",
    "test_dataset = TensorDataset(torch.tensor(orig, dtype=torch.float32))\n",
    "test_loader = DataLoader(test_dataset, batch_size=1000, shuffle=True)\n"
   ]
  },
  {
   "cell_type": "code",
   "execution_count": null,
   "metadata": {},
   "outputs": [],
   "source": [
    "\n",
    "# proposal_distribution = GaussianProposal(torch.Size([2,]), torch.tensor([0,0], dtype=torch.float32), torch.tensor([10,10], dtype=torch.float32))\n",
    "# proposal_distribution.mu.data = torch.tensor([5,5], dtype=torch.float32)\n",
    "# proposal_distribution.sigma.data = torch.tensor([7,7], dtype=torch.float32)\n",
    "proposal_distribution = UniformProposal(torch.Size([2,]), torch.tensor([0,0], dtype=torch.float32), torch.tensor([10,10], dtype=torch.float32))\n"
   ]
  },
  {
   "cell_type": "markdown",
   "metadata": {},
   "source": [
    "### Energy "
   ]
  },
  {
   "cell_type": "code",
   "execution_count": null,
   "metadata": {},
   "outputs": [],
   "source": [
    "energy = GeneralizedGaussianMixtureEnergy(dim=2, num_cluster=3, learn_pi=True, learn_mu=True, learn_sigma=True)\n",
    "energy = GeneralizedGaussianMixtureEnergyVectorParam(dim=2, num_cluster=3, learn_pi=True, learn_mu=True, learn_sigma=True)\n"
   ]
  },
  {
   "cell_type": "code",
   "execution_count": null,
   "metadata": {},
   "outputs": [],
   "source": [
    "# KMeans on Data :\n",
    "from sklearn.cluster import KMeans\n",
    "kmeans = KMeans(n_clusters=3, random_state=0).fit(data)\n",
    "centers = kmeans.cluster_centers_\n",
    "\n",
    "energy.mu.data = torch.tensor(centers, dtype=torch.float32)"
   ]
  },
  {
   "cell_type": "code",
   "execution_count": null,
   "metadata": {},
   "outputs": [],
   "source": [
    "circle_truncation = CircleTruncation(center = torch.tensor([6.5, 6], dtype=torch.float32), radius=2)\n",
    "maxmin_truncation = MaxMinTruncation(min = torch.tensor([0,0], dtype=torch.float32), max = torch.tensor([10,10], dtype=torch.float32))\n",
    "combine_truncation = CombineTruncation([circle_truncation, maxmin_truncation])\n",
    "\n"
   ]
  },
  {
   "cell_type": "code",
   "execution_count": null,
   "metadata": {},
   "outputs": [],
   "source": [
    "energy.set_truncator(combine_truncation)"
   ]
  },
  {
   "cell_type": "code",
   "execution_count": null,
   "metadata": {},
   "outputs": [],
   "source": []
  },
  {
   "cell_type": "markdown",
   "metadata": {},
   "source": [
    "# Trainer"
   ]
  },
  {
   "cell_type": "markdown",
   "metadata": {},
   "source": [
    "## Trainer Uniform"
   ]
  },
  {
   "cell_type": "code",
   "execution_count": null,
   "metadata": {},
   "outputs": [],
   "source": [
    "trainer = SNLTrainer(energy, proposal_distribution, dataloader=train_loader, val_dataloader=train_loader, n_sample_train=proposal_sample, n_sample_test=10000, lr=lr)\n"
   ]
  },
  {
   "cell_type": "code",
   "execution_count": null,
   "metadata": {},
   "outputs": [],
   "source": [
    "D = 2\n",
    "gmm = pygmmis.GMM(K=3, D=2)\n",
    "gmm.amp[:] = torch.nn.functional.log_softmax(energy.logit_pi, dim=-1).exp().detach().numpy()\n",
    "gmm.amp /= gmm.amp.sum()\n",
    "gmm.mean[:,:] = energy.mu.detach().numpy()\n",
    "print(gmm.mean)\n",
    "gmm.covar[:,:,:] = torch.linalg.inv(energy.get_precision_matrix()).detach().numpy()\n",
    "# plot data vs true model\n",
    "plotResults(orig, data, gmm, patch=ps, description=\"SNL_start\", disp=disp, log=True, name=\"SNL_start\", )\n"
   ]
  },
  {
   "cell_type": "code",
   "execution_count": null,
   "metadata": {},
   "outputs": [],
   "source": [
    "trainer.train(n_iter=n_iter, n_iter_pretrain=1000, plot_every=500)"
   ]
  },
  {
   "cell_type": "code",
   "execution_count": null,
   "metadata": {},
   "outputs": [],
   "source": [
    "D = 2\n",
    "gmm = pygmmis.GMM(K=3, D=2)\n",
    "gmm.amp[:] = torch.nn.functional.log_softmax(energy.logit_pi, dim=-1).exp().detach().numpy()\n",
    "gmm.amp /= gmm.amp.sum()\n",
    "gmm.mean[:,:] = energy.mu.detach().numpy()\n",
    "gmm.covar[:,:,:] = torch.linalg.inv(energy.get_precision_matrix()).detach().numpy()\n",
    "# plot data vs true model\n",
    "# plotResults(orig[:1], data[:1], gmm, patch=ps, description=\"SNL\", disp=disp)\n",
    "plotResults(orig, data, gmm, patch=ps, description=\"SNL\", disp=disp, log=True, name=\"SNL Best\", step =trainer.total_step)"
   ]
  },
  {
   "cell_type": "markdown",
   "metadata": {},
   "source": [
    "### Load best"
   ]
  },
  {
   "cell_type": "code",
   "execution_count": null,
   "metadata": {},
   "outputs": [],
   "source": [
    "trainer.get_best_model()\n",
    "best_energy = trainer.best_energy\n",
    "D = 2\n",
    "gmm = pygmmis.GMM(K=3, D=2)\n",
    "gmm.amp[:] = torch.nn.functional.log_softmax(best_energy.logit_pi, dim=-1).exp().detach().numpy()\n",
    "gmm.amp /= gmm.amp.sum()\n",
    "gmm.mean[:,:] = best_energy.mu.detach().numpy()\n",
    "gmm.covar[:,:,:] = torch.linalg.inv(best_energy.get_precision_matrix()).detach().numpy()\n",
    "# plot data vs true model\n",
    "# plotResults(orig[:1], data[:1], gmm, patch=ps, description=\"SNL\", disp=disp)\n",
    "plotResults(orig, data, gmm, patch=ps, disp = disp, log=True, name=\"SNL Uniform\", step=trainer.best_step)"
   ]
  },
  {
   "cell_type": "markdown",
   "metadata": {},
   "source": [
    "## Trainer Mixture"
   ]
  },
  {
   "cell_type": "code",
   "execution_count": null,
   "metadata": {},
   "outputs": [],
   "source": [
    "logit = torch.nn.functional.log_softmax(energy.logit_pi, dim=-1).exp().detach()\n",
    "mean = energy.mu.detach()\n",
    "covar = torch.linalg.inv(energy.get_precision_matrix()).detach()\n",
    "proposal_v2 = MixtureOfGeneralizedGaussianProposal(input_size = torch.Size((2,)), logit_pi = logit, mu = mean, sigma = covar)\n",
    "trainer.proposal = proposal_v2"
   ]
  },
  {
   "cell_type": "code",
   "execution_count": null,
   "metadata": {},
   "outputs": [],
   "source": [
    "trainer.train(n_iter=n_iter, n_iter_pretrain=0, plot_every=500)"
   ]
  },
  {
   "cell_type": "code",
   "execution_count": null,
   "metadata": {},
   "outputs": [],
   "source": [
    "D = 2\n",
    "gmm = pygmmis.GMM(K=3, D=2)\n",
    "gmm.amp[:] = torch.nn.functional.log_softmax(energy.logit_pi, dim=-1).exp().detach().numpy()\n",
    "gmm.amp /= gmm.amp.sum()\n",
    "gmm.mean[:,:] = energy.mu.detach().numpy()\n",
    "gmm.covar[:,:,:] = torch.linalg.inv(energy.get_precision_matrix()).detach().numpy()\n",
    "# plot data vs true model\n",
    "# plotResults(orig[:1], data[:1], gmm, patch=ps, description=\"SNL\", disp=disp)\n",
    "plotResults(orig, data, gmm, patch=ps, description=\"SNL Self Proposal\", disp=disp, log=True, name=\"SNL_self_proposal\", step =trainer.total_step)"
   ]
  },
  {
   "cell_type": "markdown",
   "metadata": {},
   "source": [
    "### Load best"
   ]
  },
  {
   "cell_type": "code",
   "execution_count": null,
   "metadata": {},
   "outputs": [],
   "source": [
    "trainer.get_best_model()\n",
    "best_energy = trainer.best_energy\n",
    "D = 2\n",
    "gmm = pygmmis.GMM(K=3, D=2)\n",
    "gmm.amp[:] = torch.nn.functional.log_softmax(best_energy.logit_pi, dim=-1).exp().detach().numpy()\n",
    "gmm.amp /= gmm.amp.sum()\n",
    "gmm.mean[:,:] = best_energy.mu.detach().numpy()\n",
    "gmm.covar[:,:,:] = torch.linalg.inv(best_energy.get_precision_matrix()).detach().numpy()\n",
    "# plot data vs true model\n",
    "# plotResults(orig[:1], data[:1], gmm, patch=ps, description=\"SNL\", disp=disp)\n",
    "plotResults(orig, data, gmm, patch=ps, log=True, description=\"SNL_self_proposal_best\", disp=disp, step = trainer.best_step)"
   ]
  },
  {
   "cell_type": "code",
   "execution_count": null,
   "metadata": {},
   "outputs": [],
   "source": []
  },
  {
   "cell_type": "code",
   "execution_count": null,
   "metadata": {},
   "outputs": [],
   "source": []
  },
  {
   "cell_type": "code",
   "execution_count": null,
   "metadata": {},
   "outputs": [],
   "source": []
  }
 ],
 "metadata": {
  "kernelspec": {
   "display_name": "lime_env",
   "language": "python",
   "name": "python3"
  },
  "language_info": {
   "codemirror_mode": {
    "name": "ipython",
    "version": 3
   },
   "file_extension": ".py",
   "mimetype": "text/x-python",
   "name": "python",
   "nbconvert_exporter": "python",
   "pygments_lexer": "ipython3",
   "version": "3.9.16"
  }
 },
 "nbformat": 4,
 "nbformat_minor": 2
}
