{
 "cells": [
  {
   "cell_type": "code",
   "execution_count": 7,
   "metadata": {},
   "outputs": [],
   "source": [
    "from utils import get_polar_from_cartesian\n",
    "from utils import get_cartesian_from_polar\n",
    "import torch"
   ]
  },
  {
   "cell_type": "code",
   "execution_count": 13,
   "metadata": {},
   "outputs": [
    {
     "name": "stdout",
     "output_type": "stream",
     "text": [
      "X tensor([[-0.0092,  1.0000]])\n",
      "Theta tensor([1.5800])\n"
     ]
    }
   ],
   "source": [
    "theta = torch.full((1,),1.58)   \n",
    "x = get_cartesian_from_polar(theta=theta,)\n",
    "print(\"X\", x)\n",
    "theta_hat = get_polar_from_cartesian(x)\n",
    "print(\"Theta\", theta_hat)"
   ]
  },
  {
   "cell_type": "code",
   "execution_count": 15,
   "metadata": {},
   "outputs": [
    {
     "name": "stdout",
     "output_type": "stream",
     "text": [
      "X tensor([[-0.0092,  1.0000],\n",
      "        [-0.3233,  0.9463]])\n",
      "Theta tensor([1.5800, 1.9000])\n"
     ]
    }
   ],
   "source": [
    "theta = torch.full((1,),1.58)\n",
    "phi = torch.full((1,),1.9)   \n",
    "x = get_cartesian_from_polar(theta = torch.cat([theta, phi]),)\n",
    "print(\"X\", x)\n",
    "theta_hat = get_polar_from_cartesian(x)\n",
    "print(\"Theta\", theta_hat)"
   ]
  },
  {
   "cell_type": "code",
   "execution_count": 83,
   "metadata": {},
   "outputs": [
    {
     "name": "stdout",
     "output_type": "stream",
     "text": [
      "tensor(2.9927)\n"
     ]
    }
   ],
   "source": [
    "import mpmath\n",
    "ambiant_dim = 3\n",
    "log_kappa = torch.tensor(0.0)\n",
    "\n",
    "order = int(ambiant_dim / 2 - 1)\n",
    "aux_kappa = log_kappa.exp().item()\n",
    "aux_bessel = float(mpmath.besseli(order, aux_kappa))\n",
    "\n",
    "log_bessel = torch.tensor(aux_bessel).log()\n",
    "\n",
    "norm_constant = (log_bessel\n",
    "+ torch.log(2 * torch.tensor(torch.pi)) * torch.tensor(ambiant_dim / 2)\n",
    "- log_kappa.item() * order)\n",
    "\n",
    "print(norm_constant)\n",
    "\n"
   ]
  },
  {
   "cell_type": "code",
   "execution_count": 84,
   "metadata": {},
   "outputs": [
    {
     "name": "stdout",
     "output_type": "stream",
     "text": [
      "tensor(2.0738)\n"
     ]
    }
   ],
   "source": [
    "\n",
    "def _eval_poly(y, coef):\n",
    "    coef = list(coef)\n",
    "    result = coef.pop()\n",
    "    while coef:\n",
    "        result = coef.pop() + y * result\n",
    "    return result\n",
    "\n",
    "\n",
    "_I0_COEF_SMALL = [1.0, 3.5156229, 3.0899424, 1.2067492, 0.2659732, 0.360768e-1, 0.45813e-2]\n",
    "_I0_COEF_LARGE = [0.39894228, 0.1328592e-1, 0.225319e-2, -0.157565e-2, 0.916281e-2,\n",
    "                  -0.2057706e-1, 0.2635537e-1, -0.1647633e-1, 0.392377e-2]\n",
    "_I1_COEF_SMALL = [0.5, 0.87890594, 0.51498869, 0.15084934, 0.2658733e-1, 0.301532e-2, 0.32411e-3]\n",
    "_I1_COEF_LARGE = [0.39894228, -0.3988024e-1, -0.362018e-2, 0.163801e-2, -0.1031555e-1,\n",
    "                  0.2282967e-1, -0.2895312e-1, 0.1787654e-1, -0.420059e-2]\n",
    "\n",
    "_COEF_SMALL = [_I0_COEF_SMALL, _I1_COEF_SMALL]\n",
    "_COEF_LARGE = [_I0_COEF_LARGE, _I1_COEF_LARGE]\n",
    "\n",
    "\n",
    "def _log_modified_bessel_fn(x, order=0):\n",
    "    \"\"\"\n",
    "    Returns ``log(I_order(x))`` for ``x > 0``,\n",
    "    where `order` is either 0 or 1.\n",
    "    \"\"\"\n",
    "    assert order == 0 or order == 1\n",
    "\n",
    "    # compute small solution\n",
    "    y = (x / 3.75)\n",
    "    y = y * y\n",
    "    small = _eval_poly(y, _COEF_SMALL[order])\n",
    "    if order == 1:\n",
    "        small = x.abs() * small\n",
    "    small = small.log()\n",
    "\n",
    "    # compute large solution\n",
    "    y = 3.75 / x\n",
    "    large = x - 0.5 * x.log() + _eval_poly(y, _COEF_LARGE[order]).log()\n",
    "\n",
    "    result = torch.where(x < 3.75, small, large)\n",
    "    return result\n",
    "\n",
    "import math \n",
    "print(+ math.log(2 * math.pi) + _log_modified_bessel_fn(log_kappa.exp(), order=0))"
   ]
  },
  {
   "cell_type": "code",
   "execution_count": 81,
   "metadata": {},
   "outputs": [],
   "source": [
    "norm_constant_2 =  torch.log(4 * torch.tensor(torch.pi)) + torch.log(torch.sinh(log_kappa.exp())) - log_kappa "
   ]
  },
  {
   "cell_type": "code",
   "execution_count": 82,
   "metadata": {},
   "outputs": [
    {
     "name": "stdout",
     "output_type": "stream",
     "text": [
      "tensor(2.6925)\n"
     ]
    }
   ],
   "source": [
    "print(norm_constant_2)"
   ]
  },
  {
   "cell_type": "code",
   "execution_count": 72,
   "metadata": {},
   "outputs": [],
   "source": [
    "norm_constant_3 = - log_kappa + torch.log(2 * torch.tensor(torch.pi)) + (log_kappa.exp().exp() - torch.exp(-log_kappa.exp()))"
   ]
  },
  {
   "cell_type": "code",
   "execution_count": 73,
   "metadata": {},
   "outputs": [
    {
     "name": "stdout",
     "output_type": "stream",
     "text": [
      "tensor(4.1883)\n"
     ]
    }
   ],
   "source": [
    "print(norm_constant_3)"
   ]
  },
  {
   "cell_type": "code",
   "execution_count": null,
   "metadata": {},
   "outputs": [],
   "source": []
  }
 ],
 "metadata": {
  "kernelspec": {
   "display_name": "lime_env",
   "language": "python",
   "name": "python3"
  },
  "language_info": {
   "codemirror_mode": {
    "name": "ipython",
    "version": 3
   },
   "file_extension": ".py",
   "mimetype": "text/x-python",
   "name": "python",
   "nbconvert_exporter": "python",
   "pygments_lexer": "ipython3",
   "version": "3.9.16"
  }
 },
 "nbformat": 4,
 "nbformat_minor": 2
}
