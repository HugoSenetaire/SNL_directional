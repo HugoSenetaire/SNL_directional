{
 "cells": [
  {
   "cell_type": "code",
   "execution_count": null,
   "metadata": {},
   "outputs": [],
   "source": [
    "import numpyro\n",
    "from Model.Energy import MixtureSineMultivariateVonMisesEnergy\n",
    "from Model.Proposal import GaussianProposal, MultivariateVonMisesProposal, UniformProposal\n",
    "from Data import get_dataloader_from_data\n",
    "import matplotlib.pyplot as plt\n",
    "import numpy as np\n",
    "import torch \n",
    "from Model.Trainer import SNLTrainer\n",
    "import os"
   ]
  },
  {
   "cell_type": "code",
   "execution_count": null,
   "metadata": {},
   "outputs": [],
   "source": [
    "# Set all the seed :\n",
    "\n",
    "np.random.seed(0)\n",
    "torch.manual_seed(0)"
   ]
  },
  {
   "cell_type": "markdown",
   "metadata": {},
   "source": [
    "# Target Distribution "
   ]
  },
  {
   "cell_type": "code",
   "execution_count": null,
   "metadata": {},
   "outputs": [],
   "source": [
    "data_train = torch.from_numpy(np.load(\"Data/ILE_dihedrals/ILE_dihedrals_train.npy\")).to(torch.float32) / 360 * 2 * np.pi\n",
    "data_test = torch.from_numpy(np.load(\"Data/ILE_dihedrals/ILE_dihedrals_test.npy\")).to(torch.float32) / 360 * 2 * np.pi\n",
    "data_val = torch.from_numpy(np.load(\"Data/ILE_dihedrals/ILE_dihedrals_val.npy\")).to(torch.float32) / 360 * 2 * np.pi\n",
    "\n",
    "\n",
    "# Plot the data\n",
    "fig, axs = plt.subplots(4, 4, figsize=(20, 20))\n",
    "for k in range(4):\n",
    "    for l in range(4):\n",
    "        if k == l:\n",
    "            axs[k, l].hist(data_train[:, k], bins=50, density=True)\n",
    "            axs[k, l].set_title(f\"Feature {k}\")\n",
    "        else:\n",
    "            axs[k, l].scatter(data_train[:, k], data_train[:, l], s=1)\n",
    "            axs[k, l].set_title(f\"Feature {k} vs {l}\")\n",
    "plt.show()\n",
    "\n",
    "data_loader_train = get_dataloader_from_data(data_train, batch_size=1000)\n",
    "data_loader_val = get_dataloader_from_data(data_val, batch_size=1000)\n",
    "data_loader_test = get_dataloader_from_data(data_test, batch_size=1000)"
   ]
  },
  {
   "cell_type": "markdown",
   "metadata": {},
   "source": [
    "# Proposal Distribution"
   ]
  },
  {
   "cell_type": "code",
   "execution_count": null,
   "metadata": {},
   "outputs": [],
   "source": [
    "proposal_distribution = GaussianProposal(input_size=torch.Size([3]), mu=torch.tensor([0.0, 0, 0]), sigma=torch.tensor([2.0, 2.0, 2.0]))\n",
    "proposal_distribution = UniformProposal(input_size=torch.Size([4]), min=torch.tensor([-np.pi,-np.pi,-np.pi, -np.pi] ), max=torch.tensor([np.pi,np.pi,np.pi, np.pi]))"
   ]
  },
  {
   "cell_type": "code",
   "execution_count": null,
   "metadata": {},
   "outputs": [],
   "source": [
    "sample = proposal_distribution.sample(10000)\n",
    "print(sample)\n",
    "\n",
    "fig, axs = plt.subplots(4, 4, figsize=(20, 20))\n",
    "for i in range(4):\n",
    "    for j in range(4):\n",
    "        if i != j:\n",
    "            axs[i, j].scatter(sample[:, i], sample[:, j], s=1)\n",
    "            axs[i, j].set_title(f\"Feature {i} vs {j}\")\n",
    "        else:\n",
    "            axs[i, j].hist(sample[:, i], bins=50, density=True)\n",
    "            axs[i, j].set_title(f\"Feature {i}\")"
   ]
  },
  {
   "cell_type": "markdown",
   "metadata": {},
   "source": [
    "# Energy "
   ]
  },
  {
   "cell_type": "code",
   "execution_count": null,
   "metadata": {},
   "outputs": [],
   "source": [
    "energy_model = MixtureSineMultivariateVonMisesEnergy(dim=4, nb_cluster=17, learn_theta=True, learn_kappa=True, learn_lambda=True)"
   ]
  },
  {
   "cell_type": "code",
   "execution_count": null,
   "metadata": {},
   "outputs": [],
   "source": [
    "# Use kmeans :\n",
    "import sklearn.cluster\n",
    "kmeans = sklearn.cluster.KMeans(n_clusters=17)\n",
    "kmeans.fit(data_train)\n",
    "\n"
   ]
  },
  {
   "cell_type": "code",
   "execution_count": null,
   "metadata": {},
   "outputs": [],
   "source": [
    "\n",
    "for k in range(17):\n",
    "    print(f\"Cluster {k} : {kmeans.cluster_centers_[k]}\")\n",
    "    energy_model.sine_multivariate_von_mises[k].theta.data = torch.tensor(kmeans.cluster_centers_[k], dtype=torch.float32)\n",
    "    energy_model.sine_multivariate_von_mises[k].log_kappa.data = torch.log(torch.tensor([5.0, 5.0, 5.0, 5.0], dtype=torch.float32))"
   ]
  },
  {
   "cell_type": "code",
   "execution_count": null,
   "metadata": {},
   "outputs": [],
   "source": [
    "x = energy_model.sample(1000)\n",
    "fig, axs = plt.subplots(4, 4, figsize=(10, 10))\n",
    "for i in range(4):\n",
    "    for j in range(4):\n",
    "        if i == j:\n",
    "            axs[i, j].hist(x[:, i], bins=50)\n",
    "            axs[i, j].set_xlim(-np.pi, np.pi)\n",
    "        else:\n",
    "            axs[i, j].scatter(x[:, i], x[:, j], s=1)\n",
    "            axs[i, j].set_xlim(-np.pi, np.pi)\n",
    "            axs[i, j].set_ylim(-np.pi, np.pi)\n",
    "plt.show()\n",
    "        "
   ]
  },
  {
   "cell_type": "code",
   "execution_count": null,
   "metadata": {},
   "outputs": [],
   "source": [
    "real_energy_model = MixtureSineMultivariateVonMisesEnergy(dim=4, nb_cluster=17, learn_theta=True, learn_kappa=True, learn_lambda=True)\n",
    "\n",
    "parameters = torch.from_numpy(np.array([\n",
    "    [-1.4,  2.5,  0.1, -1.0,  6.3, -3.1, -3.1, -24.4, -6.0,  4.3],\n",
    "    [-2.1,  2.2,  2.1, -1.5, -7.6, 11.0,  8.3,  10.4, -7.4, -26.9],\n",
    "    [-1.6,  2.8, -2.0, -0.2,  6.7,  1.8, -1.9,   7.2, -2.3,   5.0],\n",
    "    [-1.1, -0.5,  0.3, -0.2,  5.3,  3.9, -4.1, -39.3, 28.1, -52.8],\n",
    "    [-1.2, -0.3, -2.0, -0.2, 29.2,  3.7,  5.3,   5.2, -1.6,  -3.1],\n",
    "    [-1.2, -0.5,  0.3, -2.0, 15.9,  3.4, -4.3,  -4.6, -4.9,  -1.5],\n",
    "    [-1.3,  2.3,  2.0, -0.1, -29.0, 39.5,  5.4,   9.2, 14.7, -38.1],\n",
    "    [-2.0,  2.2,  2.1,  2.0, -1.6, -10.3, -19.6, -12.6, -1.2,  12.2],\n",
    "    [-1.9,  0.1, -2.0, -0.2,  4.7, -25.1,  1.2,   1.6,  1.9, -11.9],\n",
    "    [-2.4,  2.5,  0.1, -0.2,  4.2,  1.7, -1.0, -30.6, -0.4,   9.3],\n",
    "    [-1.4, -0.8,  2.0, -0.2, -3.8,  2.1,  2.4,  15.9, -3.1, -12.8],\n",
    "    [-2.2,  2.7, -2.1, -0.2, 16.1, -20.3,  1.9,  -8.5, 12.4,  -7.4],\n",
    "    [-1.6,  2.2,  2.2,  2.1, -0.4, 20.3,  2.8,  11.8, -0.3, -22.6],\n",
    "    [-1.2, -0.7,  2.0,  2.1, -6.4, 19.5,  1.5,  -7.5,  1.2, -19.7],\n",
    "    [-2.1,  2.2,  2.1, -0.2, 26.4, 13.1,  6.1,  12.5, -11.4,  -2.2],\n",
    "    [-1.8,  2.1,  2.1, -0.2, -2.3,  7.7,  7.8,   8.4,  4.3,  -3.3],\n",
    "    [-1.1, -0.8,  2.0, -0.2, 62.3, 40.7, 16.4,  14.6, -20.0, -16.8],\n",
    "])).to(torch.float32)\n",
    "theta = parameters[:, :4]\n",
    "\n",
    "lambda_ = parameters[:, 4:]\n",
    "\n",
    "\n",
    "\n",
    "parameters_2 = torch.from_numpy(np.array([\n",
    "    [1.17,  23, 6.6,   47.1,   60.1,   3.6,    156,   2592],\n",
    "    [1.33,  27, 33.1,  15.8,  115.4,  14.7,    451,   9433],\n",
    "    [1.75,  35, 6.8,   38.0,   31.0,   9.6,    226,   2784],\n",
    "    [1.75,  35, 12.9,  48.9,   75.9,  95.4,   1167,  21345],\n",
    "    [1.96,  39, 89.7,  65.5,   96.4,  47.7,   4762,  51966],\n",
    "    [2.25,  45, 25.1,  52.6,   27.4,  55.7,   1232,  14217],\n",
    "    [2.41,  48, 58.1, 131.9,  188.1,  55.8,   6409,  89678],\n",
    "    [3.10,  62, 48.2,  39.6,   66.7,  42.2,   1956,  23199],\n",
    "    [3.64,  73, 26.2,  18.4,  133.4,  20.4,    968, 114510],\n",
    "    [4.03,  81, 14.0,  34.3,  123.9,  97.5,   2054, 241211],\n",
    "    [4.89,  98, 9.2,   14.6,  125.9,  35.4,    644,  77412],\n",
    "    [5.20, 104, 56.7,  45.0,   93.0,  76.5,   3772, 426013],\n",
    "    [6.85, 137, 17.4,  23.7,  115.8,  87.3,   1671, 203914],\n",
    "    [7.30, 146, 21.2,  41.2,   96.8,  45.8,   1620, 196815],\n",
    "    [8.47, 169, 42.1,  95.1,   87.0,  35.4,   2928, 350916],\n",
    "    [20.89, 418, 13.6, 27.7,  108.9,  68.7,   1529, 168017],\n",
    "    [23.01, 460, 202.7, 242.4, 199.4, 101.8, 28747, 31572],\n",
    "])).to(torch.float32)\n",
    "\n",
    "pi = parameters_2[:, 0, None]\n",
    "n_i = parameters_2[:, 1, None]\n",
    "kappa = parameters_2[:, 2:7]\n",
    "\n",
    "\n",
    "for cluster in range(real_energy_model.nb_cluster) :\n",
    "    real_energy_model.logit_pi[cluster].data = torch.log(pi[cluster])\n",
    "    real_energy_model.sine_multivariate_von_mises[cluster].log_kappa.data = torch.log(kappa[cluster])\n",
    "    real_energy_model.sine_multivariate_von_mises[cluster].theta.data = theta[cluster]\n",
    "    index_mat = 0\n",
    "    for i in range(4):\n",
    "        for j in range(i +1,4):\n",
    "            print(i,j)\n",
    "            real_energy_model.sine_multivariate_von_mises[cluster].lam[i,j].data = lambda_[cluster][index_mat]\n",
    "            index_mat+=1\n"
   ]
  },
  {
   "cell_type": "code",
   "execution_count": null,
   "metadata": {},
   "outputs": [],
   "source": [
    "sample = real_energy_model.sample(1000)"
   ]
  },
  {
   "cell_type": "code",
   "execution_count": null,
   "metadata": {},
   "outputs": [],
   "source": [
    "# sample = proposal_distribution.sample(10000)\n",
    "# print(sample)\n",
    "\n",
    "fig, axs = plt.subplots(4, 4, figsize=(20, 20))\n",
    "for i in range(4):\n",
    "    for j in range(4):\n",
    "        if i != j:\n",
    "            axs[i, j].scatter(sample[:, i], sample[:, j], s=1)\n",
    "            axs[i, j].set_title(f\"Feature {i} vs {j}\")\n",
    "        else:\n",
    "            axs[i, j].hist(sample[:, i], bins=50, density=True)\n",
    "            axs[i, j].set_title(f\"Feature {i}\")"
   ]
  },
  {
   "cell_type": "code",
   "execution_count": null,
   "metadata": {},
   "outputs": [],
   "source": [
    "fig, axs = plt.subplots(4, 4, figsize=(20, 20))\n",
    "for k in range(4):\n",
    "    for l in range(4):\n",
    "        if k == l:\n",
    "            axs[k, l].hist(data_train[:, k], bins=50, density=True)\n",
    "            axs[k, l].set_title(f\"Feature {k}\")\n",
    "        else:\n",
    "            axs[k, l].scatter(data_train[:, k], data_train[:, l], s=1)\n",
    "            axs[k, l].set_title(f\"Feature {k} vs {l}\")\n",
    "plt.show()"
   ]
  },
  {
   "cell_type": "markdown",
   "metadata": {},
   "source": [
    "# Trainer "
   ]
  },
  {
   "cell_type": "code",
   "execution_count": null,
   "metadata": {},
   "outputs": [],
   "source": [
    "trainer = SNLTrainer(energy_model, proposal_distribution, dataloader=data_loader_train, val_dataloader=data_loader_val, lr=1e-2)"
   ]
  },
  {
   "cell_type": "code",
   "execution_count": null,
   "metadata": {},
   "outputs": [],
   "source": [
    "# energy_model.theta.data = phi\n",
    "# energy_model.log_kappa.data = kappa\n",
    "# energy_model.lam.data = lam"
   ]
  },
  {
   "cell_type": "code",
   "execution_count": null,
   "metadata": {},
   "outputs": [],
   "source": []
  },
  {
   "cell_type": "code",
   "execution_count": null,
   "metadata": {},
   "outputs": [],
   "source": [
    "trainer.train(n_iter = 200000, n_iter_pretrain= 1000)"
   ]
  },
  {
   "cell_type": "code",
   "execution_count": null,
   "metadata": {},
   "outputs": [],
   "source": []
  },
  {
   "cell_type": "code",
   "execution_count": null,
   "metadata": {},
   "outputs": [],
   "source": []
  },
  {
   "cell_type": "code",
   "execution_count": null,
   "metadata": {},
   "outputs": [],
   "source": []
  },
  {
   "cell_type": "code",
   "execution_count": null,
   "metadata": {},
   "outputs": [],
   "source": []
  }
 ],
 "metadata": {
  "kernelspec": {
   "display_name": "lime_env",
   "language": "python",
   "name": "python3"
  },
  "language_info": {
   "codemirror_mode": {
    "name": "ipython",
    "version": 3
   },
   "file_extension": ".py",
   "mimetype": "text/x-python",
   "name": "python",
   "nbconvert_exporter": "python",
   "pygments_lexer": "ipython3",
   "version": "3.9.16"
  }
 },
 "nbformat": 4,
 "nbformat_minor": 2
}
