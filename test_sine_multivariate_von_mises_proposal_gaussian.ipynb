{
 "cells": [
  {
   "cell_type": "code",
   "execution_count": null,
   "metadata": {},
   "outputs": [],
   "source": [
    "import numpyro\n",
    "from Model.Energy import SineMultivariateVonMisesEnergy\n",
    "from Model.Proposal import GaussianProposal, MultivariateVonMisesProposal, UniformProposal\n",
    "from Data import get_dataloader_from_data\n",
    "import matplotlib.pyplot as plt\n",
    "import numpy as np\n",
    "import torch \n",
    "from torch.utils.data import TensorDataset, DataLoader\n",
    "from Model.Trainer import SNLTrainer\n",
    "import os"
   ]
  },
  {
   "cell_type": "code",
   "execution_count": null,
   "metadata": {},
   "outputs": [],
   "source": [
    "# Set all the seed :\n",
    "\n",
    "np.random.seed(0)\n",
    "torch.manual_seed(0)"
   ]
  },
  {
   "cell_type": "markdown",
   "metadata": {},
   "source": [
    "# Target Distribution "
   ]
  },
  {
   "cell_type": "code",
   "execution_count": null,
   "metadata": {},
   "outputs": [],
   "source": [
    "phi = torch.tensor([0.0, np.pi/2, np.pi])\n",
    "kappa = torch.tensor([4.0, 10.0, 1.0])\n",
    "lam = torch.zeros((3,3))\n",
    "lam[0,1] = 4.0\n",
    "lam[0,2] = -4.0\n",
    "lam[1,2] = 10.0\n",
    "lam = (lam + lam.t())\n",
    "\n",
    "\n",
    "target_distribution = MultivariateVonMisesProposal(input_size=torch.Size([3]), phi=phi, kappa=kappa, lam=lam)"
   ]
  },
  {
   "cell_type": "code",
   "execution_count": null,
   "metadata": {},
   "outputs": [],
   "source": [
    "target_sample = target_distribution.sample(10000)"
   ]
  },
  {
   "cell_type": "code",
   "execution_count": null,
   "metadata": {},
   "outputs": [],
   "source": [
    "\n",
    "target_sample_train = target_sample[:6000]\n",
    "target_sample_val = target_sample[6000:8000]\n",
    "target_sample_test = target_sample[8000:]\n",
    "\n",
    "data_dir = 'Data/MultivariateVonMisesData/'\n",
    "if not os.path.exists(data_dir):\n",
    "    os.makedirs(data_dir)\n",
    "\n",
    "np.save(data_dir + 'target_sample_train.npy', target_sample_train.numpy())\n",
    "np.save(data_dir + 'target_sample_val.npy', target_sample_val.numpy())\n",
    "np.save(data_dir + 'target_sample_test.npy', target_sample_test.numpy())\n",
    "\n",
    "fig, axs = plt.subplots(3, 3, figsize=(15, 15))\n",
    "for i in range(3):\n",
    "    for j in range(3):\n",
    "        if i == j :\n",
    "            axs[i,i].hist(target_sample_train[:, i], bins=100)\n",
    "            # axs[i,i].set_title(f\" {i} dimension\")\n",
    "        else :\n",
    "            axs[i,j].scatter(target_sample_train[:, i], target_sample_train[:, j], s=1)\n",
    "            axs[i,j].set_xlim(-np.pi, np.pi)\n",
    "            axs[i,j].set_ylim(-np.pi, np.pi)\n",
    "            # axs[i,j].set_title(f\"{i} and {j} dimensions\")\n",
    "\n",
    "data_train = get_dataloader_from_data(torch.from_numpy(target_sample_train.numpy()), batch_size=256)\n"
   ]
  },
  {
   "cell_type": "markdown",
   "metadata": {},
   "source": [
    "# Proposal Distribution"
   ]
  },
  {
   "cell_type": "code",
   "execution_count": null,
   "metadata": {},
   "outputs": [],
   "source": [
    "proposal_distribution = GaussianProposal(input_size=torch.Size([3]), mu=torch.tensor([0.0, 0, 0]), sigma=torch.tensor([2.0, 2.0, 2.0]))\n",
    "proposal_distribution = UniformProposal(input_size=torch.Size([3]), min=torch.tensor([-np.pi,-np.pi,-np.pi] ), max=torch.tensor([np.pi,np.pi,np.pi]))"
   ]
  },
  {
   "cell_type": "code",
   "execution_count": null,
   "metadata": {},
   "outputs": [],
   "source": [
    "sample = proposal_distribution.sample(10000)\n",
    "print(sample)\n",
    "\n",
    "for i in range(3):\n",
    "    for j in range(i+1, 3):\n",
    "        plt.figure()\n",
    "        plt.scatter(sample[:, i], sample[:, j], s=1)\n",
    "        plt.axis('equal')\n",
    "        plt.xlim(-np.pi, np.pi)\n",
    "        plt.ylim(-np.pi, np.pi)\n",
    "        plt.title(f\"Scatter plot of samples from the target distribution in the {i} and {j} dimensions\")\n",
    "        plt.show()\n",
    "        "
   ]
  },
  {
   "cell_type": "markdown",
   "metadata": {},
   "source": [
    "# Energy "
   ]
  },
  {
   "cell_type": "code",
   "execution_count": null,
   "metadata": {},
   "outputs": [],
   "source": [
    "energy_model = SineMultivariateVonMisesEnergy(dim=3, learn_theta=True, learn_kappa=True, learn_lambda=True)"
   ]
  },
  {
   "cell_type": "code",
   "execution_count": null,
   "metadata": {},
   "outputs": [],
   "source": [
    "\n",
    "mean, new_kappa, new_lam = energy_model.score_matching_estimator(target_sample_train[:100])\n",
    "\n",
    "print(phi)\n",
    "print(mean)\n",
    "\n",
    "print('=====')\n",
    "print(kappa)\n",
    "print(new_kappa)\n",
    "\n",
    "print(\"=====\")\n",
    "print(lam)\n",
    "print(new_lam)\n",
    "\n",
    "\n"
   ]
  },
  {
   "cell_type": "code",
   "execution_count": null,
   "metadata": {},
   "outputs": [],
   "source": [
    "mean, new_kappa, new_lam = energy_model.score_matching_estimator(target_sample_train[:1000])\n",
    "\n",
    "print(phi)\n",
    "print(mean)\n",
    "\n",
    "print('=====')\n",
    "print(kappa)\n",
    "print(new_kappa)\n",
    "\n",
    "print(\"=====\")\n",
    "print(lam)\n",
    "print(new_lam)\n",
    "\n"
   ]
  },
  {
   "cell_type": "code",
   "execution_count": null,
   "metadata": {},
   "outputs": [],
   "source": [
    "mean, new_kappa, new_lam = energy_model.score_matching_estimator(target_sample_train)\n",
    "\n",
    "print(phi)\n",
    "print(mean)\n",
    "\n",
    "print('=====')\n",
    "print(kappa)\n",
    "print(new_kappa)\n",
    "\n",
    "print(\"=====\")\n",
    "print(lam)\n",
    "print(new_lam)\n",
    "\n"
   ]
  },
  {
   "cell_type": "code",
   "execution_count": null,
   "metadata": {},
   "outputs": [],
   "source": []
  },
  {
   "cell_type": "markdown",
   "metadata": {},
   "source": [
    "# Trainer "
   ]
  },
  {
   "cell_type": "code",
   "execution_count": null,
   "metadata": {},
   "outputs": [],
   "source": [
    "trainer = SNLTrainer(energy_model, proposal_distribution, data_train, data_train, lr=1e-2)"
   ]
  },
  {
   "cell_type": "code",
   "execution_count": null,
   "metadata": {},
   "outputs": [],
   "source": [
    "# energy_model.theta.data = phi\n",
    "# energy_model.log_kappa.data = kappa\n",
    "# energy_model.lam.data = lam"
   ]
  },
  {
   "cell_type": "code",
   "execution_count": null,
   "metadata": {},
   "outputs": [],
   "source": []
  },
  {
   "cell_type": "code",
   "execution_count": null,
   "metadata": {},
   "outputs": [],
   "source": [
    "trainer.train(n_iter = 200000, n_iter_pretrain= 1000)"
   ]
  },
  {
   "cell_type": "code",
   "execution_count": null,
   "metadata": {},
   "outputs": [],
   "source": []
  },
  {
   "cell_type": "code",
   "execution_count": null,
   "metadata": {},
   "outputs": [],
   "source": []
  },
  {
   "cell_type": "code",
   "execution_count": null,
   "metadata": {},
   "outputs": [],
   "source": []
  },
  {
   "cell_type": "code",
   "execution_count": null,
   "metadata": {},
   "outputs": [],
   "source": []
  }
 ],
 "metadata": {
  "kernelspec": {
   "display_name": "lime_env",
   "language": "python",
   "name": "python3"
  },
  "language_info": {
   "codemirror_mode": {
    "name": "ipython",
    "version": 3
   },
   "file_extension": ".py",
   "mimetype": "text/x-python",
   "name": "python",
   "nbconvert_exporter": "python",
   "pygments_lexer": "ipython3",
   "version": "3.9.16"
  }
 },
 "nbformat": 4,
 "nbformat_minor": 2
}
